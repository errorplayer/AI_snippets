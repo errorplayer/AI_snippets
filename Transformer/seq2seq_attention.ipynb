{
  "nbformat": 4,
  "nbformat_minor": 0,
  "metadata": {
    "colab": {
      "name": "seq2seq_attention.ipynb",
      "provenance": [],
      "collapsed_sections": [
        "fxoMqXqZj9zG",
        "fB1hS-h0k27R",
        "mhhfzHJzkNwR",
        "PDPJpYsKkoti",
        "0aYHJq3N_LQo"
      ],
      "toc_visible": true
    },
    "kernelspec": {
      "name": "python3",
      "display_name": "Python 3"
    },
    "accelerator": "GPU"
  },
  "cells": [
    {
      "cell_type": "markdown",
      "metadata": {
        "id": "fxoMqXqZj9zG",
        "colab_type": "text"
      },
      "source": [
        "### 1. 引入包和依赖"
      ]
    },
    {
      "cell_type": "code",
      "metadata": {
        "id": "SsBWKgrGh2lC",
        "colab_type": "code",
        "colab": {}
      },
      "source": [
        "from __future__ import unicode_literals, print_function, division\n",
        "from io import open\n",
        "import unicodedata\n",
        "import string\n",
        "import re\n",
        "import random\n",
        "import jieba\n",
        "import torch\n",
        "import torch.nn as nn\n",
        "from torch import optim\n",
        "import torch.nn.functional as F\n",
        "# PATH = '/content/drive/My Drive/colab_envir/NLP_standard/L5/model/'\n",
        "PATH = '/content/drive/My Drive/colab_envir/NLP_standard/L5/'\n",
        "data_path = PATH + 'cmn.txt'\n",
        "device = torch.device('cuda' if torch.cuda.is_available() else 'cpu')"
      ],
      "execution_count": 8,
      "outputs": []
    },
    {
      "cell_type": "code",
      "metadata": {
        "id": "Xkk1vPcprHUj",
        "colab_type": "code",
        "colab": {}
      },
      "source": [
        "!pip install zhconv"
      ],
      "execution_count": null,
      "outputs": []
    },
    {
      "cell_type": "markdown",
      "metadata": {
        "id": "fB1hS-h0k27R",
        "colab_type": "text"
      },
      "source": [
        "### 2. 中文处理"
      ]
    },
    {
      "cell_type": "code",
      "metadata": {
        "id": "kFc-T-pbk2o-",
        "colab_type": "code",
        "colab": {}
      },
      "source": [
        "import pandas as pd\n",
        "import zhconv\n",
        "\n",
        "PATH = '/content/drive/My Drive/colab_envir/NLP_standard/L5/'\n",
        "data_path = PATH + 'cmn.txt'\n",
        "df = pd.read_table(data_path, header=None)\n",
        "df.columns = ['inputs', 'targets', 'comments']\n",
        "\n",
        "\n",
        "# 转换成列表形式\n",
        "input_texts = df.inputs.values.tolist()\n",
        "target_texts = df.targets.values.tolist()\n",
        "pairs = list(zip(input_texts, target_texts))\n",
        "# pairs[2202]\n",
        "\n",
        "with open(PATH+'english-simplified.txt', 'a', encoding='utf-8') as f:\n",
        "  for i in pairs:\n",
        "    f.write(i[0]+'\\t'+zhconv.convert(i[1], 'zh-hans')+'\\n')"
      ],
      "execution_count": null,
      "outputs": []
    },
    {
      "cell_type": "code",
      "metadata": {
        "id": "eglvTCkfmOYO",
        "colab_type": "code",
        "colab": {
          "base_uri": "https://localhost:8080/",
          "height": 228
        },
        "outputId": "7afb55f7-4f65-4fd7-f309-979cf578e961"
      },
      "source": [
        "SOS_token = 0\n",
        "EOS_token = 1\n",
        "\n",
        "class Lang:\n",
        "  def __init__(self, name):\n",
        "    self.name = name\n",
        "    self.word2index = {}\n",
        "    self.word2count = {}\n",
        "    self.index2word = {0:'SOS', 1:'EOS'}\n",
        "    self.n_words = 2\n",
        "\n",
        "  def addSentence(self, sentence):\n",
        "    for word in sentence.split(' '):\n",
        "      self.addWord(word)\n",
        "\n",
        "  def addWord(self, word):\n",
        "    if word not in self.word2index:\n",
        "      self.word2index[word] = self.n_words\n",
        "      self.word2count[word] = 1\n",
        "      self.index2word[self.n_words] = word\n",
        "      self.n_words += 1\n",
        "    else:\n",
        "      self.word2count[word] += 1\n",
        "\n",
        "def unicodeToAscii(s):\n",
        "  return ''.join(\n",
        "      c for c in unicodedata.normalize('NFD', s)\n",
        "      if unicodedata.category(c) != 'Mn'\n",
        "  )\n",
        "\n",
        "\n",
        "def normalizeString_eng(s):\n",
        "  s = unicodeToAscii(s.lower().strip())\n",
        "  s = re.sub(r'([.!?])', r' \\1', s)\n",
        "  s = re.sub(r'[^a-zA-Z.!?]+', r' ', s)\n",
        "  return s\n",
        "def process_chn_sentence(s):\n",
        "  s = ' '.join(jieba.cut(s.split('\\n')[0].replace(' ', '')))\n",
        "  return s\n",
        "def readLangs(lang1, lang2, reverse=False):\n",
        "  print('Reading lines...')\n",
        "\n",
        "  lines = open(PATH+'%s-%s.txt' % (lang1, lang2), encoding='utf-8').read().strip().split('\\n')\n",
        "\n",
        "  pairs = [[normalizeString_eng(l.split('\\t')[0]), process_chn_sentence(l.split('\\t')[1])] for l in lines]\n",
        "\n",
        "  if reverse:\n",
        "    pairs = [list(reversed(p)) for p in pairs]\n",
        "    input_lang = Lang(lang2)\n",
        "    output_lang = Lang(lang1)\n",
        "  else:\n",
        "    input_lang = Lang(lang1)\n",
        "    output_lang = Lang(lang2)\n",
        "\n",
        "  return input_lang, output_lang, pairs\n",
        "\n",
        "MAX_LENGTH = 20\n",
        "\n",
        "eng_prefixes = (\n",
        "    'i am', 'i m',\n",
        "    'he is', 'he s',\n",
        "    'she is', 'she s',\n",
        "    'you are', 'you re',\n",
        "    'we are', 'we re',\n",
        "    'they are', 'they re'\n",
        ")\n",
        "\n",
        "def filterPair(p):\n",
        "  return len(p[0].split(' ')) < MAX_LENGTH and len(p[1].split(' ')) < MAX_LENGTH #and p[1].startswith(eng_prefixes)\n",
        "\n",
        "def PairFilter(pairs):\n",
        "  return [pair for pair in pairs if filterPair(pair)]\n",
        "\n",
        "\n",
        "def prepareData(lang1, lang2, reverse=False):\n",
        "  input_lang, output_lang, pairs = readLangs(lang1, lang2, reverse)\n",
        "  print('Read %s sentence pairs' % len(pairs))\n",
        "  pairs = PairFilter(pairs)\n",
        "  print('Trimmed to %s sentence pairs' % len(pairs))\n",
        "  print('Counting words...')\n",
        "  for pair in pairs:\n",
        "    input_lang.addSentence(pair[0])\n",
        "    output_lang.addSentence(pair[1])\n",
        "  print('Counted words:')\n",
        "  print(input_lang.name, input_lang.n_words)\n",
        "  print(output_lang.name, output_lang.n_words)\n",
        "  return input_lang, output_lang, pairs\n",
        "\n",
        "\n",
        "\n",
        "input_lang, output_lang, pairs = prepareData('english', 'simplified', False)\n",
        "print(random.choice(pairs))\n",
        "# process_chn_sentence('就像马克·诺弗勒早期演唱的歌曲《金钱无用》一样，绝大多数的人依然高呼赞成“金钱无用论”。')\n"
      ],
      "execution_count": 9,
      "outputs": [
        {
          "output_type": "stream",
          "text": [
            "Building prefix dict from the default dictionary ...\n"
          ],
          "name": "stderr"
        },
        {
          "output_type": "stream",
          "text": [
            "Reading lines...\n"
          ],
          "name": "stdout"
        },
        {
          "output_type": "stream",
          "text": [
            "Dumping model to file cache /tmp/jieba.cache\n",
            "Loading model cost 0.974 seconds.\n",
            "Prefix dict has been built successfully.\n"
          ],
          "name": "stderr"
        },
        {
          "output_type": "stream",
          "text": [
            "Read 66225 sentence pairs\n",
            "Trimmed to 66156 sentence pairs\n",
            "Counting words...\n",
            "Counted words:\n",
            "english 6226\n",
            "simplified 10832\n",
            "['his lectures are very long .', '他 的 讲座 很长 。']\n"
          ],
          "name": "stdout"
        }
      ]
    },
    {
      "cell_type": "markdown",
      "metadata": {
        "id": "mhhfzHJzkNwR",
        "colab_type": "text"
      },
      "source": [
        "### 3. 定义EncoderRNN DecoderRNN AttentionDecoderRNN"
      ]
    },
    {
      "cell_type": "code",
      "metadata": {
        "id": "76lkor8-hM-v",
        "colab_type": "code",
        "colab": {}
      },
      "source": [
        "class EncoderRNN(nn.Module):\n",
        "  def __init__(self, input_size, hidden_size):\n",
        "    super(EncoderRNN, self).__init__()\n",
        "    self.hidden_size = hidden_size\n",
        "\n",
        "    self.embedding = nn.Embedding(input_size, hidden_size)\n",
        "    self.gru = nn.GRU(hidden_size, hidden_size)\n",
        "\n",
        "  def forward(self, input, hidden):\n",
        "    embedded =self.embedding(input).view(1, 1, -1)\n",
        "    output = embedded\n",
        "    output, hidden = self.gru(output, hidden)\n",
        "    return output, hidden\n",
        "\n",
        "  def initHidden(self):\n",
        "    return torch.zeros(1, 1, self.hidden_size, device=device)"
      ],
      "execution_count": 10,
      "outputs": []
    },
    {
      "cell_type": "code",
      "metadata": {
        "id": "HqW1uAPvuz5Y",
        "colab_type": "code",
        "colab": {}
      },
      "source": [
        "class DecoderRNN(nn.Module):\n",
        "  def __init__(self, hidden_size, output_size):\n",
        "    super(DecoderRNN, self).__init__()\n",
        "    self.hidden_size = hidden_size\n",
        "\n",
        "    self.embedding = nn.Embedding(output_size, hidden_size)\n",
        "    self.gru = nn.GRU(hidden_size, hidden_size)\n",
        "    self.out = nn.Linear(hidden_size, output_size)\n",
        "    self.softmax = nn.LogSoftmax(dim=1)\n",
        "\n",
        "  def forward(self, input, hidden):\n",
        "    embedding = self.embedding(input).view(1, 1, -1)\n",
        "    gru_out, gru_hidden = self.gru(F.relu(embedding), hidden)\n",
        "    output = self.softmax(self.out(gru_out[0]))\n",
        "    return output, gru_hidden\n",
        "\n",
        "  def initHidden(self):\n",
        "    return torch.zeros(1, 1, self.hidden_size, device=device)"
      ],
      "execution_count": 11,
      "outputs": []
    },
    {
      "cell_type": "code",
      "metadata": {
        "id": "lhGUFrua1tRh",
        "colab_type": "code",
        "colab": {}
      },
      "source": [
        "class AttentionDecoderRNN(nn.Module):\n",
        "  def __init__(self, hidden_size, output_size, dropout_p=0.1, max_length=MAX_LENGTH):\n",
        "    super(AttentionDecoderRNN, self).__init__()\n",
        "    self.hidden_size = hidden_size\n",
        "    self.output_size = output_size\n",
        "    self.dropout_p = dropout_p\n",
        "    self.max_length = MAX_LENGTH\n",
        "\n",
        "    self.embedding = nn.Embedding(output_size, hidden_size)\n",
        "    self.attn = nn.Linear(2 * hidden_size, max_length)\n",
        "    self.attn_combine = nn.Linear(2 * hidden_size, hidden_size)\n",
        "    self.gru = nn.GRU(hidden_size, hidden_size)\n",
        "    self.dropout = nn.Dropout(dropout_p)\n",
        "    self.out = nn.Linear(hidden_size, output_size)\n",
        "  \n",
        "  # encoder_outputs 是输入序列进行MAX_LENGTH截取后，每一个词向量输入encoder的输出序列\n",
        "  # 所以，dim=(MAX_LENGTH, hiddden_size of encoder)\n",
        "  def forward(self, input, hidden, encoder_outputs):\n",
        "    # input dim=(1, hidden_size of encoder)\n",
        "    # hidden dim=(1, 1, hidden_size of encoder)\n",
        "    embedding = self.embedding(input).view(1, 1, -1)\n",
        "    embedded = self.dropout(embedding)\n",
        "    # embedded dim=(1, 1, hidden_size of encoder/decoder)\n",
        "    embedded_prevHidden_concat = torch.cat((embedded[0], hidden[0]), dim=1)\n",
        "    # embedded_prevHidden_concat dim=(1, 2 * hidden_size of encoder)\n",
        "    attn = self.attn(embedded_prevHidden_concat)\n",
        "    # attn dim=(1, MAX_LENGTH)\n",
        "    attn_weights = F.softmax(attn, dim=1)\n",
        "    # attn_weights dim=(1, MAX_LENGTH)\n",
        "\n",
        "    # torch.bmm(input, mat2, out=None) → Tensor\n",
        "    # If input is a (b×n×m) tensor, \n",
        "    #   mat2 is a (b×m×p) tensor, \n",
        "    # out will be a (b×n×p) tensor.\n",
        "    attn_applied = torch.bmm(attn_weights.unsqueeze(0), encoder_outputs.unsqueeze(0))\n",
        "    # attn_applied dim=(1, 1, hidden_size of encoder/decoder)\n",
        "\n",
        "    embedded_attnApplied_concat = torch.cat((embedded[0], attn_applied[0]), dim=1)\n",
        "    # embedded_attnApplied_concat dim=(1, 2 * hidden_size of encoder/decoder)\n",
        "\n",
        "    embedded_attn = F.relu(self.attn_combine(embedded_attnApplied_concat))\n",
        "    # embedded_attn dim=(1, hidden_size of encoder/decoder)\n",
        "\n",
        "    gru_out, gru_hidden = self.gru(embedded_attn.unsqueeze(0), hidden)\n",
        "    # gru_out dim=(1, 1, hidden_size of encoder/decoder)\n",
        "    # gru_hidden dim=(1, 1, hidden_size of encoder/decoder)\n",
        "\n",
        "    output = F.log_softmax(self.out(gru_out[0]), dim=1)\n",
        "    # output dim=(1, output_size)\n",
        "\n",
        "    return output, gru_hidden, attn_weights\n",
        "\n",
        "  def initHidden(self):\n",
        "    return torch.zeros(1, 1, self.hidden_size, device=device)"
      ],
      "execution_count": 12,
      "outputs": []
    },
    {
      "cell_type": "markdown",
      "metadata": {
        "id": "PDPJpYsKkoti",
        "colab_type": "text"
      },
      "source": [
        "### 4. 训练函数定义"
      ]
    },
    {
      "cell_type": "code",
      "metadata": {
        "id": "aiV7iCsDSd68",
        "colab_type": "code",
        "colab": {}
      },
      "source": [
        "def indexesFromSentence(lang, sentence):\n",
        "  return [lang.word2index[word] for word in sentence.split(' ')]\n",
        "\n",
        "def tensorFromSentence(lang, sentence):\n",
        "  indexes = indexesFromSentence(lang, sentence)\n",
        "  indexes.append(EOS_token)\n",
        "  return torch.tensor(indexes, dtype=torch.long, device=device).view(-1, 1)\n",
        "\n",
        "def tensorsFromPair(pair):\n",
        "  input_tensor = tensorFromSentence(input_lang, pair[0])\n",
        "  target_tensor = tensorFromSentence(output_lang, pair[1])\n",
        "  return (input_tensor, target_tensor)\n",
        "\n",
        "teacher_forcing_ratio = 0.5\n",
        "\n",
        "def train(input_tensor, target_tensor, encoder, decoder, encoder_optimizer, decoder_optimizer, criterion, max_length=MAX_LENGTH):\n",
        "  encoder_hidden = encoder.initHidden()\n",
        "\n",
        "  encoder_optimizer.zero_grad()\n",
        "  decoder_optimizer.zero_grad()\n",
        "\n",
        "  input_length = input_tensor.size(0)\n",
        "  target_length = target_tensor.size(0)\n",
        "\n",
        "  encoder_outputs = torch.zeros(max_length, encoder.hidden_size, device=device)\n",
        "\n",
        "  loss = 0\n",
        "\n",
        "  for ei in range(input_length):\n",
        "    # input_tensor[ei]  dim=(1,)\n",
        "    # encoder_hidden   dim=(1, 1, hidden_size)\n",
        "    encoder_output, encoder_hidden = encoder(input_tensor[ei], encoder_hidden)\n",
        "    # encoder_output dim=(1, 1, hidden_size)\n",
        "    # encoder_hidden dim=(1, 1, hidden_size)\n",
        "    encoder_outputs[ei] = encoder_output[0, 0]\n",
        "\n",
        "  decoder_input = torch.tensor([[SOS_token]], device=device)\n",
        "\n",
        "  decoder_hidden = encoder_hidden\n",
        "\n",
        "  use_teacher_forcing = True if random.random() < teacher_forcing_ratio else False\n",
        "\n",
        "  if use_teacher_forcing:\n",
        "    for di in range(target_length):\n",
        "      decoder_output, decoder_hidden, decoder_attention = decoder(decoder_input, decoder_hidden, encoder_outputs)\n",
        "      # decoder_output dim=(1, output_size)\n",
        "      # decoder_hidden dim=(1, 1, hidden_size of decoder)\n",
        "      # decoder_attention dim=(1, MAX_LENGTH)\n",
        "      loss += criterion(decoder_output, target_tensor[di])\n",
        "      decoder_input = target_tensor[di]\n",
        "\n",
        "  else:\n",
        "    for di in range(target_length):\n",
        "      decoder_output, decoder_hidden, decoder_attention = decoder(decoder_input, decoder_hidden, encoder_outputs)\n",
        "      topv, topi = decoder_output.topk(1)\n",
        "      decoder_input = topi.squeeze().detach()\n",
        "\n",
        "      loss += criterion(decoder_output, target_tensor[di])\n",
        "      if decoder_input.item() == EOS_token:\n",
        "        break\n",
        "  loss.backward()\n",
        "\n",
        "  encoder_optimizer.step()\n",
        "  decoder_optimizer.step()\n",
        "\n",
        "  return loss.item() / target_length\n",
        "\n"
      ],
      "execution_count": 15,
      "outputs": []
    },
    {
      "cell_type": "markdown",
      "metadata": {
        "id": "0aYHJq3N_LQo",
        "colab_type": "text"
      },
      "source": [
        "### 5. Helper Function"
      ]
    },
    {
      "cell_type": "code",
      "metadata": {
        "id": "UywdtbMx_OGo",
        "colab_type": "code",
        "colab": {}
      },
      "source": [
        "import time\n",
        "import math\n",
        "\n",
        "\n",
        "import matplotlib.pyplot as plt\n",
        "# plt.switch_backend('agg')\n",
        "# plt.rcParams['font.sans-serif']=['SimHei']\n",
        "# plt.rcParams['axes.unicode_minus'] = False\n",
        "\n",
        "plt.rcParams['font.sans-serif']=['SimHei'] #显示中文标签\n",
        "plt.rcParams['font.serif'] = ['KaiTi']\n",
        "plt.rcParams['axes.unicode_minus'] = False\n",
        "import matplotlib.ticker as ticker\n",
        "import numpy as np\n",
        "\n",
        "\n",
        "def showPlot(points):\n",
        "    plt.figure()\n",
        "    fig, ax = plt.subplots()\n",
        "    # this locator puts ticks at regular intervals\n",
        "    loc = ticker.MultipleLocator(base=0.2)\n",
        "    ax.yaxis.set_major_locator(loc)\n",
        "    plt.plot(points)\n",
        "\n",
        "def asMinute(s):\n",
        "  m = math.floor(s / 60)\n",
        "  s -= m * 60\n",
        "  return '%dm %ds' % (m, s)\n",
        "\n",
        "def timeSince(since, percent):\n",
        "  now = time.time()\n",
        "  s = now - since\n",
        "  es = s / (percent)\n",
        "  rs = es - s\n",
        "  return '%s (- %s)' % (asMinute(s), asMinute(rs))\n",
        "\n",
        "def trainIters(encoder, decoder, n_iters, print_every=1000, plot_every=100, learning_rate=0.01):\n",
        "  start = time.time()\n",
        "  plot_losses = []\n",
        "  print_loss_total = 0\n",
        "  plot_loss_total = 0\n",
        "\n",
        "  encoder_optimizer = optim.SGD(encoder.parameters(), lr=learning_rate)\n",
        "  decoder_optimizer = optim.SGD(decoder.parameters(), lr=learning_rate)\n",
        "  training_pairs = [tensorsFromPair(random.choice(pairs)) for i in range(n_iters)]\n",
        "\n",
        "  criterion = nn.NLLLoss()\n",
        "  for iter in range(1, n_iters + 1):\n",
        "    training_pair = training_pairs[iter - 1]\n",
        "    input_tensor = training_pair[0]\n",
        "    target_tensor = training_pair[1]\n",
        "\n",
        "    loss = train(input_tensor, target_tensor, encoder,\n",
        "                  decoder, encoder_optimizer, decoder_optimizer, criterion)\n",
        "    print_loss_total += loss\n",
        "    plot_loss_total += loss\n",
        "\n",
        "    if iter % print_every == 0:\n",
        "      print_loss_avg = print_loss_total / print_every\n",
        "      print_loss_total = 0\n",
        "      print('%s (%d %d%%) %.4f' % (timeSince(start, iter / n_iters), iter, iter / n_iters * 100, print_loss_avg))\n",
        "\n",
        "    if iter % plot_every == 0:\n",
        "      plot_loss_avg = plot_loss_total / plot_every\n",
        "      plot_losses.append(plot_loss_avg)\n",
        "      plot_loss_total = 0\n",
        "\n",
        "  showPlot(plot_losses)\n",
        "\n",
        "def evaluate(encoder, decoder, sentence, max_length=MAX_LENGTH):\n",
        "  with torch.no_grad():\n",
        "    input_tensor = tensorFromSentence(input_lang, sentence)\n",
        "    input_length = input_tensor.size()[0]\n",
        "    encoder_hidden = encoder.initHidden()\n",
        "\n",
        "    encoder_outputs = torch.zeros(max_length, encoder.hidden_size, device=device)\n",
        "\n",
        "    for ei in range(input_length):\n",
        "        encoder_output, encoder_hidden = encoder(input_tensor[ei], encoder_hidden)\n",
        "        encoder_outputs[ei] += encoder_output[0, 0]\n",
        "\n",
        "    decoder_input = torch.tensor([[SOS_token]], device=device)  # SOS\n",
        "\n",
        "    decoder_hidden = encoder_hidden\n",
        "\n",
        "    decoded_words = []\n",
        "    decoder_attentions = torch.zeros(max_length, max_length)\n",
        "\n",
        "    for di in range(max_length):\n",
        "        decoder_output, decoder_hidden, decoder_attention = decoder(decoder_input, decoder_hidden, encoder_outputs)\n",
        "        decoder_attentions[di] = decoder_attention.data\n",
        "        topv, topi = decoder_output.data.topk(1)\n",
        "        if topi.item() == EOS_token:\n",
        "            decoded_words.append('<EOS>')\n",
        "            break\n",
        "        else:\n",
        "            decoded_words.append(output_lang.index2word[topi.item()])\n",
        "\n",
        "        decoder_input = topi.squeeze().detach()\n",
        "\n",
        "    return decoded_words, decoder_attentions[:di + 1]\n",
        "\n",
        "def evaluateRandomly(encoder, decoder, n=5):\n",
        "  for i in range(n):\n",
        "    pair = random.choice(pairs)\n",
        "    print('>', pair[0])\n",
        "    print('=', pair[1])\n",
        "    output_words, attentions = evaluate(encoder, decoder, pair[0])\n",
        "    output_sentence = ' '.join(output_words)\n",
        "    print('<', output_sentence)\n",
        "    print('')"
      ],
      "execution_count": 36,
      "outputs": []
    },
    {
      "cell_type": "markdown",
      "metadata": {
        "id": "P_OlMdyrCwe3",
        "colab_type": "text"
      },
      "source": [
        "### 6. 正式训练"
      ]
    },
    {
      "cell_type": "code",
      "metadata": {
        "id": "9TEUQpy9CzH0",
        "colab_type": "code",
        "colab": {}
      },
      "source": [
        "# 初始化从零训练\n",
        "hidden_size = 256\n",
        "encoder1 = EncoderRNN(input_lang.n_words, hidden_size).to(device)\n",
        "attn_decoder1 = AttentionDecoderRNN(hidden_size, output_lang.n_words, dropout_p=0.1).to(device)\n",
        "\n",
        "trainIters(encoder1, attn_decoder1, 75000, print_every=5000)"
      ],
      "execution_count": null,
      "outputs": []
    },
    {
      "cell_type": "code",
      "metadata": {
        "id": "4_2snpkz2dI_",
        "colab_type": "code",
        "colab": {}
      },
      "source": [
        "# 已有预训练模型的训练\n",
        "encoder1.train()\n",
        "attn_decoder1.train()\n",
        "trainIters(encoder1, attn_decoder1, 20000, print_every=5000, learning_rate=0.0005)"
      ],
      "execution_count": null,
      "outputs": []
    },
    {
      "cell_type": "code",
      "metadata": {
        "id": "wvVv4ODCR9dL",
        "colab_type": "code",
        "colab": {}
      },
      "source": [
        "# 模型保存\n",
        "torch.save(encoder1.state_dict(), PATH+'model/encoder_140000.pth')\n",
        "torch.save(attn_decoder1.state_dict(), PATH+'model/attn_decoder_140000.pth')"
      ],
      "execution_count": 22,
      "outputs": []
    },
    {
      "cell_type": "code",
      "metadata": {
        "id": "7v6VOl1vSSk0",
        "colab_type": "code",
        "colab": {}
      },
      "source": [
        "# 模型实例化\n",
        "hidden_size = 256\n",
        "encoder1 = EncoderRNN(input_lang.n_words, hidden_size).to(device)\n",
        "attn_decoder1 = AttentionDecoderRNN(hidden_size, output_lang.n_words, dropout_p=0.1).to(device)\n",
        "\n",
        "# 模型加载\n",
        "encoder1.load_state_dict(torch.load(PATH+'model/encoder_140000.pth'))\n",
        "attn_decoder1.load_state_dict(torch.load(PATH+'model/attn_decoder_140000.pth'))\n",
        "\n",
        "# 使用模型做测试\n",
        "encoder1.eval()\n",
        "attn_decoder1.eval()\n",
        "evaluateRandomly(encoder1, attn_decoder1, n=10)\n"
      ],
      "execution_count": null,
      "outputs": []
    },
    {
      "cell_type": "markdown",
      "metadata": {
        "id": "5TBnwysjzGaJ",
        "colab_type": "text"
      },
      "source": [
        "### 7. 用单个句子生成翻译输出并打印注意力"
      ]
    },
    {
      "cell_type": "code",
      "metadata": {
        "id": "y7kgXPBrzcsQ",
        "colab_type": "code",
        "colab": {}
      },
      "source": [
        "def showAttention(input_sentence, output_words, attentions):\n",
        "    # Set up figure with colorbar\n",
        "    fig = plt.figure()\n",
        "    ax = fig.add_subplot(111)\n",
        "    cax = ax.matshow(attentions.numpy(), cmap='bone')\n",
        "    fig.colorbar(cax)\n",
        "\n",
        "    # Set up axes\n",
        "    ax.set_xticklabels([''] + input_sentence.split(' ') +\n",
        "                       ['<EOS>'], rotation=90)\n",
        "    ax.set_yticklabels([''] + output_words)\n",
        "\n",
        "    # Show label at every tick\n",
        "    ax.xaxis.set_major_locator(ticker.MultipleLocator(1))\n",
        "    ax.yaxis.set_major_locator(ticker.MultipleLocator(1))\n",
        "\n",
        "    plt.show()\n",
        "\n",
        "\n",
        "def evaluateAndShowAttention(input_sentence):\n",
        "    input_sentence = normalizeString_eng(input_sentence)\n",
        "    output_words, attentions = evaluate(\n",
        "        encoder1, attn_decoder1, input_sentence)\n",
        "    print('input =', input_sentence)\n",
        "    print('output =', ' '.join(output_words))\n",
        "    showAttention(input_sentence, output_words, attentions)\n",
        "\n",
        "\n",
        "\n",
        "evaluateAndShowAttention(\"i don t plan to stay very long.\")"
      ],
      "execution_count": null,
      "outputs": []
    }
  ]
}